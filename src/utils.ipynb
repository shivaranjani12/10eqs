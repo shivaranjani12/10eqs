{
 "cells": [
  {
   "cell_type": "code",
   "execution_count": 6,
   "id": "05a30c3b",
   "metadata": {},
   "outputs": [],
   "source": [
    "import requests\n",
    "import pandas as pd\n",
    "from dotenv import load_dotenv\n",
    "import os"
   ]
  },
  {
   "cell_type": "code",
   "execution_count": 7,
   "id": "c54faf6b",
   "metadata": {},
   "outputs": [],
   "source": [
    "load_dotenv()\n",
    "\n",
    "API_KEY = os.getenv(\"API_KEY\")\n"
   ]
  },
  {
   "cell_type": "code",
   "execution_count": 10,
   "id": "68687473",
   "metadata": {},
   "outputs": [],
   "source": [
    "def fetch_external_data():\n",
    "    \"\"\"\n",
    "    Fetch external data from an API.\n",
    "    \n",
    "    Returns: \n",
    "        DataFrame\n",
    "    \"\"\"\n",
    "    api_url = \"https://api.example.com/market-prices\"\n",
    "    headers = {\" Authorization\":f\"Bearer{API_KEY}\"}\n",
    "\n",
    "    try:\n",
    "        response = requests.get(api_url, headers=headers)\n",
    "        response.raise_for_status()\n",
    "        return pd.DataFrame(response.json())\n",
    "    except requests.exceptions.RequestException as e:\n",
    "        print(f\"Error fetching external data: {e}\")\n",
    "        return pd.DataFrame()\n",
    "\n",
    "def generate_insights(data, external_data):\n",
    "    \"\"\"\n",
    "    Generate business insights by comparing product data with external data.\n",
    "\n",
    "    Args:\n",
    "        data (DataFrame): The product data.\n",
    "        external_data (DataFrame): The external market data.\n",
    "\n",
    "    Returns:\n",
    "        str: A string containing formatted insights.\n",
    "    \"\"\"\n",
    "    # Merge product data with external data on product_name\n",
    "    merged_data = pd.merge(data, external_data, on=\"product_name\", how=\"left\")\n",
    "\n",
    "    # Calculate the price difference\n",
    "    merged_data[\"price_difference\"] = merged_data[\"our_price\"] - merged_data[\"market_price\"]\n",
    "\n",
    "    # Generate insights\n",
    "    insights = \"# Business Insights\\n\\n\"\n",
    "    for _, row in merged_data.iterrows():\n",
    "        if row[\"price_difference\"] > 0:\n",
    "            insights += f\"- {row['product_name']} is priced higher than the market average by ${row['price_difference']:.2f}.\\n\"\n",
    "        elif row[\"price_difference\"] < 0:\n",
    "            insights += f\"- {row['product_name']} is priced lower than the market average by ${-row['price_difference']:.2f}.\\n\"\n",
    "        else:\n",
    "            insights += f\"- {row['product_name']} is priced at the market average.\\n\"\n",
    "\n",
    "    return insights"
   ]
  },
  {
   "cell_type": "code",
   "execution_count": null,
   "id": "2e5b3b90",
   "metadata": {},
   "outputs": [],
   "source": []
  }
 ],
 "metadata": {
  "kernelspec": {
   "display_name": "Python 3 (ipykernel)",
   "language": "python",
   "name": "python3"
  },
  "language_info": {
   "codemirror_mode": {
    "name": "ipython",
    "version": 3
   },
   "file_extension": ".py",
   "mimetype": "text/x-python",
   "name": "python",
   "nbconvert_exporter": "python",
   "pygments_lexer": "ipython3",
   "version": "3.10.8"
  }
 },
 "nbformat": 4,
 "nbformat_minor": 5
}
