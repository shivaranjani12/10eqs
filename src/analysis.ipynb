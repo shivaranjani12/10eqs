{
 "cells": [
  {
   "cell_type": "code",
   "execution_count": 1,
   "id": "258ca0d1",
   "metadata": {},
   "outputs": [
    {
     "ename": "SyntaxError",
     "evalue": "incomplete input (2448786311.py, line 41)",
     "output_type": "error",
     "traceback": [
      "\u001b[0;36m  Cell \u001b[0;32mIn [1], line 41\u001b[0;36m\u001b[0m\n\u001b[0;31m    \u001b[0m\n\u001b[0m    ^\u001b[0m\n\u001b[0;31mSyntaxError\u001b[0m\u001b[0;31m:\u001b[0m incomplete input\n"
     ]
    }
   ],
   "source": [
    "import pandas as pd\n",
    "import sys\n",
    "from utils import fetch_external_data, generate_insights\n",
    "\n",
    "def main(csv_file_path):\n",
    "    \"\"\"\n",
    "    Main function to process product data and generate insights.\n",
    "\n",
    "    Args:\n",
    "        csv_file_path (str): Path to the product CSV file.\n",
    "    \"\"\"\n",
    "    try:\n",
    "        # Step 1: Load product data\n",
    "        print(\"Loading product data...\")\n",
    "        data = pd.read_csv(\"../data/product.csv\")\n",
    "        print(\"Product data loaded successfully.\")\n",
    "\n",
    "        # Step 2: Clean product data\n",
    "        print(\"Cleaning product data...\")\n",
    "        data.fillna(0, inplace=True)  # Replace missing values with 0\n",
    "        data['category'] = data['category'].str.lower()  # Normalize category names\n",
    "\n",
    "        # Step 3: Fetch external market data\n",
    "        print(\"Fetching external market data...\")\n",
    "        external_data = fetch_external_data()\n",
    "\n",
    "        # Check if external data was successfully fetched\n",
    "        if external_data.empty:\n",
    "            print(\"Error: Failed to fetch external market data. Exiting...\")\n",
    "            sys.exit(1)\n",
    "\n",
    "        print(\"External data fetched successfully.\")\n",
    "\n",
    "        # Step 4: Generate insights\n",
    "        print(\"Generating insights...\")\n",
    "        insights = generate_insights(data, external_data)\n",
    "\n",
    "        # Step 5: Save insights to report.md\n",
    "        print(\"Saving insights to report.md...\")\n",
    "        with open(\"report.md\", \"w\") as report_file:\n",
    "       \n"
   ]
  },
  {
   "cell_type": "code",
   "execution_count": null,
   "id": "0fe128e0",
   "metadata": {},
   "outputs": [],
   "source": []
  }
 ],
 "metadata": {
  "kernelspec": {
   "display_name": "Python 3 (ipykernel)",
   "language": "python",
   "name": "python3"
  },
  "language_info": {
   "codemirror_mode": {
    "name": "ipython",
    "version": 3
   },
   "file_extension": ".py",
   "mimetype": "text/x-python",
   "name": "python",
   "nbconvert_exporter": "python",
   "pygments_lexer": "ipython3",
   "version": "3.10.8"
  }
 },
 "nbformat": 4,
 "nbformat_minor": 5
}
